{
 "cells": [
  {
   "cell_type": "markdown",
   "id": "7e968ed5",
   "metadata": {},
   "source": [
    "# 1. Install and Import Dependencies"
   ]
  },
  {
   "cell_type": "code",
   "execution_count": null,
   "id": "881633d0",
   "metadata": {},
   "outputs": [],
   "source": [
    "# repo installation of paddle\n",
    "# If you have GPU, use this:\n",
    "!python -m pip install paddlepaddle-gpu==2.0.0 -i https://mirror.baidu.com/pypi/simple \n",
    "# If you have CPU only, uncomment and use this. Don't forget to comment out the line above:\n",
    "#!python -m pip install paddlepaddle==2.0.0 -i https://mirror.baidu.com/pypi/simple "
   ]
  },
  {
   "cell_type": "code",
   "execution_count": null,
   "id": "7d31f0c0",
   "metadata": {},
   "outputs": [],
   "source": [
    "# install ppocr\n",
    "!pip install paddleocr\n",
    "#needed until final env is ready"
   ]
  },
  {
   "cell_type": "code",
   "execution_count": null,
   "id": "12582364",
   "metadata": {},
   "outputs": [],
   "source": [
    "# Clone paddle OCR repo - get FONTS for visualization\n",
    "#only uncomment and run the next line if paddleOCR is not present in repo(it should be if you forked this project)\n",
    "!git clone https://github.com/PaddlePaddle/PaddleOCR"
   ]
  },
  {
   "cell_type": "code",
   "execution_count": null,
   "id": "1c16dd7c",
   "metadata": {},
   "outputs": [],
   "source": [
    "# Clone PaddleDetection repository\n",
    "cd <path/to/clone/PaddleDetection>\n",
    "git clone https://github.com/PaddlePaddle/PaddleDetection.git\n",
    "\n",
    "# Compile and install paddledet\n",
    "cd PaddleDetection\n",
    "python setup.py install\n",
    "\n",
    "# Install other dependencies\n",
    "pip install -r requirements.txt"
   ]
  },
  {
   "cell_type": "code",
   "execution_count": null,
   "id": "3da08db0",
   "metadata": {},
   "outputs": [],
   "source": [
    "from paddleocr import PaddleOCR, draw_ocr # main OCR dependencies\n",
    "from matplotlib import pyplot as plt # plot images\n",
    "import cv2 #opencv\n",
    "import os # folder directory navigation"
   ]
  },
  {
   "cell_type": "markdown",
   "id": "14ef74dc",
   "metadata": {},
   "source": [
    "# 2. Instantiate Model and Detect"
   ]
  },
  {
   "cell_type": "code",
   "execution_count": null,
   "id": "92e64a07",
   "metadata": {},
   "outputs": [],
   "source": [
    "# Setup model\n",
    "ocr_model = PaddleOCR(lang='en')"
   ]
  },
  {
   "cell_type": "code",
   "execution_count": null,
   "id": "fa84b44c",
   "metadata": {},
   "outputs": [],
   "source": [
    "img_path = os.path.join('.', 'pfi_20210224_AV-UK-033-20_0_0_CA-MCBXJxD4.jpg')"
   ]
  },
  {
   "cell_type": "code",
   "execution_count": null,
   "id": "26e6dfbb",
   "metadata": {},
   "outputs": [],
   "source": [
    "# Run the ocr method on the ocr model\n",
    "result = ocr_model.ocr(img_path)"
   ]
  },
  {
   "cell_type": "code",
   "execution_count": null,
   "id": "39743d80",
   "metadata": {},
   "outputs": [],
   "source": [
    "result"
   ]
  },
  {
   "cell_type": "code",
   "execution_count": null,
   "id": "13939f67",
   "metadata": {},
   "outputs": [],
   "source": [
    "for res in result:\n",
    "    print(res[1][0]) "
   ]
  },
  {
   "cell_type": "markdown",
   "id": "f780d8c4",
   "metadata": {},
   "source": [
    "# 3. Visualise Results"
   ]
  },
  {
   "cell_type": "code",
   "execution_count": null,
   "id": "d34b025b",
   "metadata": {},
   "outputs": [],
   "source": [
    "# Extracting detected components\n",
    "boxes = [res[0] for res in result] # \n",
    "texts = [res[1][0] for res in result]\n",
    "scores = [res[1][1] for res in result]"
   ]
  },
  {
   "cell_type": "code",
   "execution_count": null,
   "id": "703258d4",
   "metadata": {},
   "outputs": [],
   "source": [
    "# Specifying font path for draw_ocr method\n",
    "font_path = os.path.join('PaddleOCR', 'doc', 'fonts', 'latin.ttf')"
   ]
  },
  {
   "cell_type": "code",
   "execution_count": null,
   "id": "83f54a74",
   "metadata": {},
   "outputs": [],
   "source": [
    "# Import our image - drug 1/2/3\n",
    "# imports image\n",
    "img = cv2.imread(img_path) \n",
    "\n",
    "# reorders the color channels\n",
    "img = cv2.cvtColor(img, cv2.COLOR_BGR2RGB) "
   ]
  },
  {
   "cell_type": "code",
   "execution_count": null,
   "id": "8aa509bf",
   "metadata": {},
   "outputs": [],
   "source": [
    "# Visualize our image and detections\n",
    "# resizing display area\n",
    "plt.figure(figsize=(15,15))\n",
    "\n",
    "# draw annotations on image\n",
    "annotated = draw_ocr(img, boxes, texts, scores, font_path=font_path) \n",
    "\n",
    "# show the image using matplotlib\n",
    "plt.imshow(annotated) "
   ]
  },
  {
   "cell_type": "code",
   "execution_count": null,
   "id": "72e39e00",
   "metadata": {},
   "outputs": [],
   "source": [
    "img.shape"
   ]
  },
  {
   "cell_type": "code",
   "execution_count": null,
   "id": "b65cdd58",
   "metadata": {},
   "outputs": [],
   "source": []
  }
 ],
 "metadata": {
  "kernelspec": {
   "display_name": "wandavision",
   "language": "python",
   "name": "wandavision"
  },
  "language_info": {
   "codemirror_mode": {
    "name": "ipython",
    "version": 3
   },
   "file_extension": ".py",
   "mimetype": "text/x-python",
   "name": "python",
   "nbconvert_exporter": "python",
   "pygments_lexer": "ipython3",
   "version": "3.8.11"
  }
 },
 "nbformat": 4,
 "nbformat_minor": 5
}
