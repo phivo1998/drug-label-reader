{
 "cells": [
  {
   "cell_type": "markdown",
   "id": "7e968ed5",
   "metadata": {},
   "source": [
    "# 1. Install and Import Dependencies"
   ]
  },
  {
   "cell_type": "code",
   "execution_count": 10,
   "id": "881633d0",
   "metadata": {},
   "outputs": [
    {
     "name": "stdout",
     "output_type": "stream",
     "text": [
      "Looking in indexes: https://mirror.baidu.com/pypi/simple\n"
     ]
    },
    {
     "name": "stderr",
     "output_type": "stream",
     "text": [
      "ERROR: Could not find a version that satisfies the requirement paddlepaddle==2.0.0 (from versions: 2.1.0, 2.1.1, 2.1.2, 2.1.3, 2.2.0rc0, 2.2.0)\n",
      "ERROR: No matching distribution found for paddlepaddle==2.0.0\n"
     ]
    }
   ],
   "source": [
    "# repo installation of paddle\n",
    "# If you have GPU, use this:\n",
    "#!python -m pip install paddlepaddle-gpu==2.0.0 -i https://mirror.baidu.com/pypi/simple \n",
    "# If you have CPU only, uncomment and use this. Don't forget to comment out the line above:\n",
    "!python -m pip install paddlepaddle==2.0.0 -i https://mirror.baidu.com/pypi/simple "
   ]
  },
  {
   "cell_type": "code",
   "execution_count": 4,
   "id": "7d31f0c0",
   "metadata": {},
   "outputs": [
    {
     "name": "stdout",
     "output_type": "stream",
     "text": [
      "Collecting paddleocr\n",
      "  Using cached paddleocr-2.3.0.2-py3-none-any.whl (250 kB)\n",
      "Collecting tqdm\n",
      "  Using cached tqdm-4.62.3-py2.py3-none-any.whl (76 kB)\n",
      "Collecting imgaug==0.4.0\n",
      "  Using cached imgaug-0.4.0-py2.py3-none-any.whl (948 kB)\n",
      "Requirement already satisfied: numpy in c:\\users\\gilbe\\anaconda3\\envs\\paddle\\lib\\site-packages (from paddleocr) (1.19.3)\n",
      "Collecting lmdb\n",
      "  Downloading lmdb-1.2.1-cp39-cp39-win_amd64.whl (106 kB)\n",
      "Collecting visualdl\n",
      "  Using cached visualdl-2.2.2-py3-none-any.whl (2.7 MB)\n",
      "Collecting python-Levenshtein\n",
      "  Using cached python-Levenshtein-0.12.2.tar.gz (50 kB)\n",
      "Collecting opencv-contrib-python==4.4.0.46\n",
      "  Downloading opencv_contrib_python-4.4.0.46-cp39-cp39-win_amd64.whl (40.1 MB)\n",
      "Collecting scikit-image\n",
      "  Downloading scikit_image-0.18.3-cp39-cp39-win_amd64.whl (12.2 MB)\n",
      "Collecting pyclipper\n",
      "  Downloading pyclipper-1.3.0-cp39-cp39-win_amd64.whl (105 kB)\n",
      "Collecting lxml\n",
      "  Downloading lxml-4.6.4-cp39-cp39-win_amd64.whl (3.5 MB)\n",
      "Collecting fasttext==0.9.1\n",
      "  Using cached fasttext-0.9.1.tar.gz (57 kB)\n",
      "Collecting premailer\n",
      "  Using cached premailer-3.10.0-py2.py3-none-any.whl (19 kB)\n",
      "Collecting shapely\n",
      "  Downloading Shapely-1.8.0-cp39-cp39-win_amd64.whl (1.1 MB)\n",
      "Collecting cython\n",
      "  Downloading Cython-0.29.24-cp39-cp39-win_amd64.whl (1.7 MB)\n",
      "Collecting openpyxl\n",
      "  Using cached openpyxl-3.0.9-py2.py3-none-any.whl (242 kB)\n",
      "Collecting pybind11>=2.2\n",
      "  Using cached pybind11-2.8.1-py2.py3-none-any.whl (208 kB)\n",
      "Requirement already satisfied: setuptools>=0.7.0 in c:\\users\\gilbe\\anaconda3\\envs\\paddle\\lib\\site-packages (from fasttext==0.9.1->paddleocr) (58.0.4)\n",
      "Requirement already satisfied: Pillow in c:\\users\\gilbe\\anaconda3\\envs\\paddle\\lib\\site-packages (from imgaug==0.4.0->paddleocr) (8.4.0)\n",
      "Collecting scipy\n",
      "  Downloading scipy-1.7.2-cp39-cp39-win_amd64.whl (34.3 MB)\n",
      "Requirement already satisfied: six in c:\\users\\gilbe\\anaconda3\\envs\\paddle\\lib\\site-packages (from imgaug==0.4.0->paddleocr) (1.16.0)\n",
      "Collecting matplotlib\n",
      "  Downloading matplotlib-3.5.0-cp39-cp39-win_amd64.whl (7.2 MB)\n",
      "Collecting imageio\n",
      "  Using cached imageio-2.11.1-py3-none-any.whl (3.3 MB)\n",
      "Collecting opencv-python\n",
      "  Downloading opencv_python-4.5.4.60-cp39-cp39-win_amd64.whl (35.1 MB)\n",
      "Collecting PyWavelets>=1.1.1\n",
      "  Downloading PyWavelets-1.2.0-cp39-cp39-win_amd64.whl (4.2 MB)\n",
      "Collecting tifffile>=2019.7.26\n",
      "  Using cached tifffile-2021.11.2-py3-none-any.whl (178 kB)\n",
      "Collecting networkx>=2.0\n",
      "  Using cached networkx-2.6.3-py3-none-any.whl (1.9 MB)\n",
      "Collecting fonttools>=4.22.0\n",
      "  Downloading fonttools-4.28.2-py3-none-any.whl (880 kB)\n",
      "Requirement already satisfied: python-dateutil>=2.7 in c:\\users\\gilbe\\anaconda3\\envs\\paddle\\lib\\site-packages (from matplotlib->imgaug==0.4.0->paddleocr) (2.8.2)\n",
      "Collecting cycler>=0.10\n",
      "  Downloading cycler-0.11.0-py3-none-any.whl (6.4 kB)\n",
      "Collecting setuptools-scm>=4\n",
      "  Downloading setuptools_scm-6.3.2-py3-none-any.whl (33 kB)\n",
      "Requirement already satisfied: packaging>=20.0 in c:\\users\\gilbe\\anaconda3\\envs\\paddle\\lib\\site-packages (from matplotlib->imgaug==0.4.0->paddleocr) (21.3)\n",
      "Collecting kiwisolver>=1.0.1\n",
      "  Using cached kiwisolver-1.3.2-cp39-cp39-win_amd64.whl (52 kB)\n",
      "Requirement already satisfied: pyparsing>=2.2.1 in c:\\users\\gilbe\\anaconda3\\envs\\paddle\\lib\\site-packages (from matplotlib->imgaug==0.4.0->paddleocr) (3.0.4)\n",
      "Collecting tomli>=1.0.0\n",
      "  Downloading tomli-1.2.2-py3-none-any.whl (12 kB)\n",
      "Collecting et-xmlfile\n",
      "  Using cached et_xmlfile-1.1.0-py3-none-any.whl (4.7 kB)\n",
      "Requirement already satisfied: requests in c:\\users\\gilbe\\anaconda3\\envs\\paddle\\lib\\site-packages (from premailer->paddleocr) (2.26.0)\n",
      "Collecting cachetools\n",
      "  Using cached cachetools-4.2.4-py3-none-any.whl (10 kB)\n",
      "Collecting cssutils\n",
      "  Using cached cssutils-2.3.0-py3-none-any.whl (404 kB)\n",
      "Collecting cssselect\n",
      "  Using cached cssselect-1.1.0-py2.py3-none-any.whl (16 kB)\n",
      "Requirement already satisfied: idna<4,>=2.5 in c:\\users\\gilbe\\anaconda3\\envs\\paddle\\lib\\site-packages (from requests->premailer->paddleocr) (3.3)\n",
      "Requirement already satisfied: charset-normalizer~=2.0.0 in c:\\users\\gilbe\\anaconda3\\envs\\paddle\\lib\\site-packages (from requests->premailer->paddleocr) (2.0.7)\n",
      "Requirement already satisfied: certifi>=2017.4.17 in c:\\users\\gilbe\\anaconda3\\envs\\paddle\\lib\\site-packages (from requests->premailer->paddleocr) (2021.10.8)\n",
      "Requirement already satisfied: urllib3<1.27,>=1.21.1 in c:\\users\\gilbe\\anaconda3\\envs\\paddle\\lib\\site-packages (from requests->premailer->paddleocr) (1.26.7)\n",
      "Requirement already satisfied: colorama in c:\\users\\gilbe\\appdata\\roaming\\python\\python39\\site-packages (from tqdm->paddleocr) (0.4.4)\n",
      "Collecting pre-commit\n",
      "  Using cached pre_commit-2.15.0-py2.py3-none-any.whl (191 kB)\n",
      "Collecting bce-python-sdk\n",
      "  Using cached bce_python_sdk-0.8.62-py3-none-any.whl (197 kB)\n",
      "Collecting flask>=1.1.1\n",
      "  Using cached Flask-2.0.2-py3-none-any.whl (95 kB)\n",
      "Collecting shellcheck-py\n",
      "  Using cached shellcheck_py-0.8.0.1-py2.py3-none-win_amd64.whl (1.5 MB)\n",
      "Collecting Flask-Babel>=1.0.0\n",
      "  Using cached Flask_Babel-2.0.0-py3-none-any.whl (9.3 kB)\n",
      "Collecting flake8>=3.7.9\n",
      "  Using cached flake8-4.0.1-py2.py3-none-any.whl (64 kB)\n",
      "Collecting pandas\n",
      "  Downloading pandas-1.3.4-cp39-cp39-win_amd64.whl (10.2 MB)\n",
      "Requirement already satisfied: protobuf>=3.11.0 in c:\\users\\gilbe\\anaconda3\\envs\\paddle\\lib\\site-packages (from visualdl->paddleocr) (3.19.1)\n",
      "Collecting pyflakes<2.5.0,>=2.4.0\n",
      "  Using cached pyflakes-2.4.0-py2.py3-none-any.whl (69 kB)\n",
      "Collecting pycodestyle<2.9.0,>=2.8.0\n",
      "  Using cached pycodestyle-2.8.0-py2.py3-none-any.whl (42 kB)\n",
      "Requirement already satisfied: mccabe<0.7.0,>=0.6.0 in c:\\users\\gilbe\\appdata\\roaming\\python\\python39\\site-packages (from flake8>=3.7.9->visualdl->paddleocr) (0.6.1)\n",
      "Collecting itsdangerous>=2.0\n",
      "  Using cached itsdangerous-2.0.1-py3-none-any.whl (18 kB)\n",
      "Requirement already satisfied: Jinja2>=3.0 in c:\\users\\gilbe\\anaconda3\\envs\\paddle\\lib\\site-packages (from flask>=1.1.1->visualdl->paddleocr) (3.0.2)\n",
      "Collecting click>=7.1.2\n",
      "  Using cached click-8.0.3-py3-none-any.whl (97 kB)\n",
      "Collecting Werkzeug>=2.0\n",
      "  Using cached Werkzeug-2.0.2-py3-none-any.whl (288 kB)\n",
      "Collecting Babel>=2.3\n",
      "  Using cached Babel-2.9.1-py2.py3-none-any.whl (8.8 MB)\n",
      "Collecting pytz\n",
      "  Using cached pytz-2021.3-py2.py3-none-any.whl (503 kB)\n",
      "Requirement already satisfied: MarkupSafe>=2.0 in c:\\users\\gilbe\\anaconda3\\envs\\paddle\\lib\\site-packages (from Jinja2>=3.0->flask>=1.1.1->visualdl->paddleocr) (2.0.1)\n",
      "Collecting pycryptodome>=3.8.0\n",
      "  Using cached pycryptodome-3.11.0-cp35-abi3-win_amd64.whl (1.8 MB)\n",
      "Collecting future>=0.6.0\n",
      "  Using cached future-0.18.2.tar.gz (829 kB)\n",
      "Collecting cfgv>=2.0.0\n",
      "  Using cached cfgv-3.3.1-py2.py3-none-any.whl (7.3 kB)\n",
      "Collecting virtualenv>=20.0.8\n",
      "  Using cached virtualenv-20.10.0-py2.py3-none-any.whl (5.6 MB)\n",
      "Collecting identify>=1.0.0\n",
      "  Using cached identify-2.4.0-py2.py3-none-any.whl (98 kB)\n",
      "Collecting nodeenv>=0.11.1\n",
      "  Using cached nodeenv-1.6.0-py2.py3-none-any.whl (21 kB)\n",
      "Collecting pyyaml>=5.1\n",
      "  Downloading PyYAML-6.0-cp39-cp39-win_amd64.whl (151 kB)\n",
      "Requirement already satisfied: toml in c:\\users\\gilbe\\appdata\\roaming\\python\\python39\\site-packages (from pre-commit->visualdl->paddleocr) (0.10.2)\n",
      "Collecting distlib<1,>=0.3.1\n",
      "  Using cached distlib-0.3.3-py2.py3-none-any.whl (496 kB)\n",
      "Collecting filelock<4,>=3.2\n",
      "  Using cached filelock-3.4.0-py3-none-any.whl (9.8 kB)\n",
      "Collecting backports.entry-points-selectable>=1.0.4\n",
      "  Using cached backports.entry_points_selectable-1.1.1-py2.py3-none-any.whl (6.2 kB)\n",
      "Collecting platformdirs<3,>=2\n",
      "  Using cached platformdirs-2.4.0-py3-none-any.whl (14 kB)\n",
      "Building wheels for collected packages: fasttext, python-Levenshtein, future\n",
      "  Building wheel for fasttext (setup.py): started\n",
      "  Building wheel for fasttext (setup.py): finished with status 'done'\n",
      "  Created wheel for fasttext: filename=fasttext-0.9.1-cp39-cp39-win_amd64.whl size=196224 sha256=6b860c4cd1459e47f806d75b61f475e71d007c9e5ebb3e3bdfb6c0ce728c9adf\n",
      "  Stored in directory: c:\\users\\gilbe\\appdata\\local\\pip\\cache\\wheels\\52\\e8\\d1\\417a64144b63372c84877c2e8ef950f8a0686203c41d485129\n",
      "  Building wheel for python-Levenshtein (setup.py): started\n",
      "  Building wheel for python-Levenshtein (setup.py): finished with status 'done'\n",
      "  Created wheel for python-Levenshtein: filename=python_Levenshtein-0.12.2-cp39-cp39-win_amd64.whl size=83545 sha256=3fdd2d58dfb87de72b83a017e396e70acfe545389467e57f287ef251ef0d41a1\n",
      "  Stored in directory: c:\\users\\gilbe\\appdata\\local\\pip\\cache\\wheels\\46\\4a\\6c\\164a1d9dd67c82d208f19d869ad0a517a0c5a6117f608c53e6\n",
      "  Building wheel for future (setup.py): started\n",
      "  Building wheel for future (setup.py): finished with status 'done'\n",
      "  Created wheel for future: filename=future-0.18.2-py3-none-any.whl size=491070 sha256=ec76e9352661891cd00d48d0841ed82ab70b2e175d25f6c7e272ab7f4ac29a75\n",
      "  Stored in directory: c:\\users\\gilbe\\appdata\\local\\pip\\cache\\wheels\\2f\\a0\\d3\\4030d9f80e6b3be787f19fc911b8e7aa462986a40ab1e4bb94\n",
      "Successfully built fasttext python-Levenshtein future\n",
      "Installing collected packages: tomli, Werkzeug, setuptools-scm, pytz, platformdirs, kiwisolver, itsdangerous, fonttools, filelock, distlib, cycler, click, backports.entry-points-selectable, virtualenv, tifffile, scipy, pyyaml, PyWavelets, pyflakes, pycryptodome, pycodestyle, nodeenv, networkx, matplotlib, imageio, identify, future, flask, cfgv, Babel, shellcheck-py, shapely, scikit-image, pybind11, pre-commit, pandas, opencv-python, lxml, Flask-Babel, flake8, et-xmlfile, cssutils, cssselect, cachetools, bce-python-sdk, visualdl, tqdm, python-Levenshtein, pyclipper, premailer, openpyxl, opencv-contrib-python, lmdb, imgaug, fasttext, cython, paddleocr\n",
      "  Attempting uninstall: pycodestyle\n",
      "    Found existing installation: pycodestyle 2.7.0\n",
      "    Uninstalling pycodestyle-2.7.0:\n",
      "      Successfully uninstalled pycodestyle-2.7.0\n",
      "Successfully installed Babel-2.9.1 Flask-Babel-2.0.0 PyWavelets-1.2.0 Werkzeug-2.0.2 backports.entry-points-selectable-1.1.1 bce-python-sdk-0.8.62 cachetools-4.2.4 cfgv-3.3.1 click-8.0.3 cssselect-1.1.0 cssutils-2.3.0 cycler-0.11.0 cython-0.29.24 distlib-0.3.3 et-xmlfile-1.1.0 fasttext-0.9.1 filelock-3.4.0 flake8-4.0.1 flask-2.0.2 fonttools-4.28.2 future-0.18.2 identify-2.4.0 imageio-2.11.1 imgaug-0.4.0 itsdangerous-2.0.1 kiwisolver-1.3.2 lmdb-1.2.1 lxml-4.6.4 matplotlib-3.5.0 networkx-2.6.3 nodeenv-1.6.0 opencv-contrib-python-4.4.0.46 opencv-python-4.5.4.60 openpyxl-3.0.9 paddleocr-2.3.0.2 pandas-1.3.4 platformdirs-2.4.0 pre-commit-2.15.0 premailer-3.10.0 pybind11-2.8.1 pyclipper-1.3.0 pycodestyle-2.8.0 pycryptodome-3.11.0 pyflakes-2.4.0 python-Levenshtein-0.12.2 pytz-2021.3 pyyaml-6.0 scikit-image-0.18.3 scipy-1.7.2 setuptools-scm-6.3.2 shapely-1.8.0 shellcheck-py-0.8.0.1 tifffile-2021.11.2 tomli-1.2.2 tqdm-4.62.3 virtualenv-20.10.0 visualdl-2.2.2\n"
     ]
    }
   ],
   "source": [
    "# install ppocr\n",
    "!pip install paddleocr\n",
    "#needed until final env is ready"
   ]
  },
  {
   "cell_type": "code",
   "execution_count": 5,
   "id": "12582364",
   "metadata": {},
   "outputs": [
    {
     "name": "stderr",
     "output_type": "stream",
     "text": [
      "Cloning into 'PaddleOCR'...\n",
      "Updating files:  62% (503/799)\n",
      "Updating files:  63% (504/799)\n",
      "Updating files:  64% (512/799)\n",
      "Updating files:  65% (520/799)\n",
      "Updating files:  66% (528/799)\n",
      "Updating files:  67% (536/799)\n",
      "Updating files:  68% (544/799)\n",
      "Updating files:  69% (552/799)\n",
      "Updating files:  70% (560/799)\n",
      "Updating files:  71% (568/799)\n",
      "Updating files:  72% (576/799)\n",
      "Updating files:  73% (584/799)\n",
      "Updating files:  74% (592/799)\n",
      "Updating files:  75% (600/799)\n",
      "Updating files:  76% (608/799)\n",
      "Updating files:  77% (616/799)\n",
      "Updating files:  78% (624/799)\n",
      "Updating files:  79% (632/799)\n",
      "Updating files:  80% (640/799)\n",
      "Updating files:  81% (648/799)\n",
      "Updating files:  82% (656/799)\n",
      "Updating files:  83% (664/799)\n",
      "Updating files:  84% (672/799)\n",
      "Updating files:  85% (680/799)\n",
      "Updating files:  86% (688/799)\n",
      "Updating files:  87% (696/799)\n",
      "Updating files:  88% (704/799)\n",
      "Updating files:  89% (712/799)\n",
      "Updating files:  90% (720/799)\n",
      "Updating files:  91% (728/799)\n",
      "Updating files:  92% (736/799)\n",
      "Updating files:  93% (744/799)\n",
      "Updating files:  94% (752/799)\n",
      "Updating files:  95% (760/799)\n",
      "Updating files:  96% (768/799)\n",
      "Updating files:  97% (776/799)\n",
      "Updating files:  98% (784/799)\n",
      "Updating files:  99% (792/799)\n",
      "Updating files: 100% (799/799)\n",
      "Updating files: 100% (799/799), done.\n"
     ]
    }
   ],
   "source": [
    "# Clone paddle OCR repo - get FONTS for visualization\n",
    "#only uncomment and run the next line if paddleOCR is not present in repo(it should be if you forked this project)\n",
    "!git clone https://github.com/PaddlePaddle/PaddleOCR"
   ]
  },
  {
   "cell_type": "code",
   "execution_count": 6,
   "id": "3da08db0",
   "metadata": {},
   "outputs": [
    {
     "ename": "ImportError",
     "evalue": "cannot import name 'PaddleOCR' from partially initialized module 'paddleocr' (most likely due to a circular import) (C:\\Users\\Gilbe\\anaconda3\\envs\\paddle\\lib\\site-packages\\paddleocr\\__init__.py)",
     "output_type": "error",
     "traceback": [
      "\u001b[1;31m---------------------------------------------------------------------------\u001b[0m",
      "\u001b[1;31mImportError\u001b[0m                               Traceback (most recent call last)",
      "\u001b[1;32m~\\AppData\\Local\\Temp/ipykernel_7996/167106662.py\u001b[0m in \u001b[0;36m<module>\u001b[1;34m\u001b[0m\n\u001b[1;32m----> 1\u001b[1;33m \u001b[1;32mfrom\u001b[0m \u001b[0mpaddleocr\u001b[0m \u001b[1;32mimport\u001b[0m \u001b[0mPaddleOCR\u001b[0m\u001b[1;33m,\u001b[0m \u001b[0mdraw_ocr\u001b[0m \u001b[1;31m# main OCR dependencies\u001b[0m\u001b[1;33m\u001b[0m\u001b[1;33m\u001b[0m\u001b[0m\n\u001b[0m\u001b[0;32m      2\u001b[0m \u001b[1;32mfrom\u001b[0m \u001b[0mmatplotlib\u001b[0m \u001b[1;32mimport\u001b[0m \u001b[0mpyplot\u001b[0m \u001b[1;32mas\u001b[0m \u001b[0mplt\u001b[0m \u001b[1;31m# plot images\u001b[0m\u001b[1;33m\u001b[0m\u001b[1;33m\u001b[0m\u001b[0m\n\u001b[0;32m      3\u001b[0m \u001b[1;32mimport\u001b[0m \u001b[0mcv2\u001b[0m \u001b[1;31m#opencv\u001b[0m\u001b[1;33m\u001b[0m\u001b[1;33m\u001b[0m\u001b[0m\n\u001b[0;32m      4\u001b[0m \u001b[1;32mimport\u001b[0m \u001b[0mos\u001b[0m \u001b[1;31m# folder directory navigation\u001b[0m\u001b[1;33m\u001b[0m\u001b[1;33m\u001b[0m\u001b[0m\n",
      "\u001b[1;32m~\\anaconda3\\envs\\paddle\\lib\\site-packages\\paddleocr\\__init__.py\u001b[0m in \u001b[0;36m<module>\u001b[1;34m\u001b[0m\n\u001b[0;32m     13\u001b[0m \u001b[1;31m# limitations under the License.\u001b[0m\u001b[1;33m\u001b[0m\u001b[1;33m\u001b[0m\u001b[0m\n\u001b[0;32m     14\u001b[0m \u001b[1;32mimport\u001b[0m \u001b[0mpaddleocr\u001b[0m\u001b[1;33m\u001b[0m\u001b[1;33m\u001b[0m\u001b[0m\n\u001b[1;32m---> 15\u001b[1;33m \u001b[1;32mfrom\u001b[0m \u001b[1;33m.\u001b[0m\u001b[0mpaddleocr\u001b[0m \u001b[1;32mimport\u001b[0m \u001b[1;33m*\u001b[0m\u001b[1;33m\u001b[0m\u001b[1;33m\u001b[0m\u001b[0m\n\u001b[0m\u001b[0;32m     16\u001b[0m \u001b[1;33m\u001b[0m\u001b[0m\n\u001b[0;32m     17\u001b[0m \u001b[0m__version__\u001b[0m \u001b[1;33m=\u001b[0m \u001b[0mpaddleocr\u001b[0m\u001b[1;33m.\u001b[0m\u001b[0mVERSION\u001b[0m\u001b[1;33m\u001b[0m\u001b[1;33m\u001b[0m\u001b[0m\n",
      "\u001b[1;32m~\\anaconda3\\envs\\paddle\\lib\\site-packages\\paddleocr\\paddleocr.py\u001b[0m in \u001b[0;36m<module>\u001b[1;34m\u001b[0m\n\u001b[0;32m     27\u001b[0m \u001b[1;32mfrom\u001b[0m \u001b[0mpathlib\u001b[0m \u001b[1;32mimport\u001b[0m \u001b[0mPath\u001b[0m\u001b[1;33m\u001b[0m\u001b[1;33m\u001b[0m\u001b[0m\n\u001b[0;32m     28\u001b[0m \u001b[1;33m\u001b[0m\u001b[0m\n\u001b[1;32m---> 29\u001b[1;33m \u001b[1;32mfrom\u001b[0m \u001b[0mtools\u001b[0m\u001b[1;33m.\u001b[0m\u001b[0minfer\u001b[0m \u001b[1;32mimport\u001b[0m \u001b[0mpredict_system\u001b[0m\u001b[1;33m\u001b[0m\u001b[1;33m\u001b[0m\u001b[0m\n\u001b[0m\u001b[0;32m     30\u001b[0m \u001b[1;32mfrom\u001b[0m \u001b[0mppocr\u001b[0m\u001b[1;33m.\u001b[0m\u001b[0mutils\u001b[0m\u001b[1;33m.\u001b[0m\u001b[0mlogging\u001b[0m \u001b[1;32mimport\u001b[0m \u001b[0mget_logger\u001b[0m\u001b[1;33m\u001b[0m\u001b[1;33m\u001b[0m\u001b[0m\n\u001b[0;32m     31\u001b[0m \u001b[1;33m\u001b[0m\u001b[0m\n",
      "\u001b[1;32m~\\anaconda3\\envs\\paddle\\lib\\site-packages\\paddleocr\\tools\\infer\\predict_system.py\u001b[0m in \u001b[0;36m<module>\u001b[1;34m\u001b[0m\n\u001b[0;32m     28\u001b[0m \u001b[1;32mimport\u001b[0m \u001b[0mlogging\u001b[0m\u001b[1;33m\u001b[0m\u001b[1;33m\u001b[0m\u001b[0m\n\u001b[0;32m     29\u001b[0m \u001b[1;32mfrom\u001b[0m \u001b[0mPIL\u001b[0m \u001b[1;32mimport\u001b[0m \u001b[0mImage\u001b[0m\u001b[1;33m\u001b[0m\u001b[1;33m\u001b[0m\u001b[0m\n\u001b[1;32m---> 30\u001b[1;33m \u001b[1;32mimport\u001b[0m \u001b[0mtools\u001b[0m\u001b[1;33m.\u001b[0m\u001b[0minfer\u001b[0m\u001b[1;33m.\u001b[0m\u001b[0mutility\u001b[0m \u001b[1;32mas\u001b[0m \u001b[0mutility\u001b[0m\u001b[1;33m\u001b[0m\u001b[1;33m\u001b[0m\u001b[0m\n\u001b[0m\u001b[0;32m     31\u001b[0m \u001b[1;32mimport\u001b[0m \u001b[0mtools\u001b[0m\u001b[1;33m.\u001b[0m\u001b[0minfer\u001b[0m\u001b[1;33m.\u001b[0m\u001b[0mpredict_rec\u001b[0m \u001b[1;32mas\u001b[0m \u001b[0mpredict_rec\u001b[0m\u001b[1;33m\u001b[0m\u001b[1;33m\u001b[0m\u001b[0m\n\u001b[0;32m     32\u001b[0m \u001b[1;32mimport\u001b[0m \u001b[0mtools\u001b[0m\u001b[1;33m.\u001b[0m\u001b[0minfer\u001b[0m\u001b[1;33m.\u001b[0m\u001b[0mpredict_det\u001b[0m \u001b[1;32mas\u001b[0m \u001b[0mpredict_det\u001b[0m\u001b[1;33m\u001b[0m\u001b[1;33m\u001b[0m\u001b[0m\n",
      "\u001b[1;32m~\\anaconda3\\envs\\paddle\\lib\\site-packages\\paddleocr\\tools\\infer\\utility.py\u001b[0m in \u001b[0;36m<module>\u001b[1;34m\u001b[0m\n\u001b[0;32m     23\u001b[0m \u001b[1;32mfrom\u001b[0m \u001b[0mpaddle\u001b[0m \u001b[1;32mimport\u001b[0m \u001b[0minference\u001b[0m\u001b[1;33m\u001b[0m\u001b[1;33m\u001b[0m\u001b[0m\n\u001b[0;32m     24\u001b[0m \u001b[1;32mimport\u001b[0m \u001b[0mtime\u001b[0m\u001b[1;33m\u001b[0m\u001b[1;33m\u001b[0m\u001b[0m\n\u001b[1;32m---> 25\u001b[1;33m \u001b[1;32mfrom\u001b[0m \u001b[0mppocr\u001b[0m\u001b[1;33m.\u001b[0m\u001b[0mutils\u001b[0m\u001b[1;33m.\u001b[0m\u001b[0mlogging\u001b[0m \u001b[1;32mimport\u001b[0m \u001b[0mget_logger\u001b[0m\u001b[1;33m\u001b[0m\u001b[1;33m\u001b[0m\u001b[0m\n\u001b[0m\u001b[0;32m     26\u001b[0m \u001b[1;33m\u001b[0m\u001b[0m\n\u001b[0;32m     27\u001b[0m \u001b[1;33m\u001b[0m\u001b[0m\n",
      "\u001b[1;32m~\\OneDrive - University Of Houston\\Desktop\\Classes\\Fall 2021\\drug-label-reader\\ppocr.py\u001b[0m in \u001b[0;36m<module>\u001b[1;34m\u001b[0m\n\u001b[0;32m      1\u001b[0m \u001b[1;33m\u001b[0m\u001b[0m\n\u001b[0;32m      2\u001b[0m \u001b[1;32mfrom\u001b[0m \u001b[0mPIL\u001b[0m \u001b[1;32mimport\u001b[0m \u001b[0mImage\u001b[0m\u001b[1;33m\u001b[0m\u001b[1;33m\u001b[0m\u001b[0m\n\u001b[1;32m----> 3\u001b[1;33m \u001b[1;32mfrom\u001b[0m \u001b[0mpaddleocr\u001b[0m \u001b[1;32mimport\u001b[0m \u001b[0mPaddleOCR\u001b[0m\u001b[1;33m,\u001b[0m \u001b[0mdraw_ocr\u001b[0m\u001b[1;33m\u001b[0m\u001b[1;33m\u001b[0m\u001b[0m\n\u001b[0m\u001b[0;32m      4\u001b[0m \u001b[1;31m# Paddleocr supports Chinese, English, French, German, Korean and Japanese.\u001b[0m\u001b[1;33m\u001b[0m\u001b[1;33m\u001b[0m\u001b[0m\n\u001b[0;32m      5\u001b[0m \u001b[1;31m# You can set the parameter `lang` as `ch`, `en`, `fr`, `german`, `korean`, `japan`\u001b[0m\u001b[1;33m\u001b[0m\u001b[1;33m\u001b[0m\u001b[0m\n",
      "\u001b[1;31mImportError\u001b[0m: cannot import name 'PaddleOCR' from partially initialized module 'paddleocr' (most likely due to a circular import) (C:\\Users\\Gilbe\\anaconda3\\envs\\paddle\\lib\\site-packages\\paddleocr\\__init__.py)"
     ]
    }
   ],
   "source": [
    "from paddleocr import PaddleOCR, draw_ocr # main OCR dependencies\n",
    "from matplotlib import pyplot as plt # plot images\n",
    "import cv2 #opencv\n",
    "import os # folder directory navigation"
   ]
  },
  {
   "cell_type": "markdown",
   "id": "14ef74dc",
   "metadata": {},
   "source": [
    "# 2. Instantiate Model and Detect"
   ]
  },
  {
   "cell_type": "code",
   "execution_count": null,
   "id": "92e64a07",
   "metadata": {},
   "outputs": [],
   "source": [
    "# Setup model\n",
    "ocr_model = PaddleOCR()"
   ]
  },
  {
   "cell_type": "code",
   "execution_count": null,
   "id": "fa84b44c",
   "metadata": {},
   "outputs": [],
   "source": [
    "img_path = os.path.join('.', 'drug1.jpg')"
   ]
  },
  {
   "cell_type": "code",
   "execution_count": null,
   "id": "26e6dfbb",
   "metadata": {},
   "outputs": [],
   "source": [
    "# Run the ocr method on the ocr model\n",
    "result = ocr_model.ocr(img_path)"
   ]
  },
  {
   "cell_type": "code",
   "execution_count": null,
   "id": "39743d80",
   "metadata": {},
   "outputs": [],
   "source": [
    "result"
   ]
  },
  {
   "cell_type": "code",
   "execution_count": null,
   "id": "13939f67",
   "metadata": {},
   "outputs": [],
   "source": [
    "for res in result:\n",
    "    print(res[1][0]) "
   ]
  },
  {
   "cell_type": "markdown",
   "id": "f780d8c4",
   "metadata": {},
   "source": [
    "# 3. Visualise Results"
   ]
  },
  {
   "cell_type": "code",
   "execution_count": null,
   "id": "d34b025b",
   "metadata": {},
   "outputs": [],
   "source": [
    "# Extracting detected components\n",
    "boxes = [res[0] for res in result] # \n",
    "texts = [res[1][0] for res in result]\n",
    "scores = [res[1][1] for res in result]"
   ]
  },
  {
   "cell_type": "code",
   "execution_count": null,
   "id": "703258d4",
   "metadata": {},
   "outputs": [],
   "source": [
    "# Specifying font path for draw_ocr method\n",
    "font_path = os.path.join('PaddleOCR', 'doc', 'fonts', 'latin.ttf')"
   ]
  },
  {
   "cell_type": "code",
   "execution_count": null,
   "id": "83f54a74",
   "metadata": {},
   "outputs": [],
   "source": [
    "# Import our image - drug 1/2/3\n",
    "# imports image\n",
    "img = cv2.imread(img_path) \n",
    "\n",
    "# reorders the color channels\n",
    "img = cv2.cvtColor(img, cv2.COLOR_BGR2RGB) "
   ]
  },
  {
   "cell_type": "code",
   "execution_count": null,
   "id": "8aa509bf",
   "metadata": {},
   "outputs": [],
   "source": [
    "# Visualize our image and detections\n",
    "# resizing display area\n",
    "plt.figure(figsize=(15,15))\n",
    "\n",
    "# draw annotations on image\n",
    "annotated = draw_ocr(img, boxes, texts, scores, font_path=font_path) \n",
    "\n",
    "# show the image using matplotlib\n",
    "plt.imshow(annotated) "
   ]
  },
  {
   "cell_type": "code",
   "execution_count": null,
   "id": "72e39e00",
   "metadata": {},
   "outputs": [],
   "source": [
    "img.shape"
   ]
  },
  {
   "cell_type": "code",
   "execution_count": null,
   "id": "b65cdd58",
   "metadata": {},
   "outputs": [],
   "source": []
  }
 ],
 "metadata": {
  "kernelspec": {
   "display_name": "paddle",
   "language": "python",
   "name": "paddle"
  },
  "language_info": {
   "codemirror_mode": {
    "name": "ipython",
    "version": 3
   },
   "file_extension": ".py",
   "mimetype": "text/x-python",
   "name": "python",
   "nbconvert_exporter": "python",
   "pygments_lexer": "ipython3",
   "version": "3.9.7"
  }
 },
 "nbformat": 4,
 "nbformat_minor": 5
}
